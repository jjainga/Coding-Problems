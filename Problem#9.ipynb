{
 "metadata": {
  "language_info": {
   "codemirror_mode": {
    "name": "ipython",
    "version": 3
   },
   "file_extension": ".py",
   "mimetype": "text/x-python",
   "name": "python",
   "nbconvert_exporter": "python",
   "pygments_lexer": "ipython3",
   "version": "3.8.5-final"
  },
  "orig_nbformat": 2,
  "kernelspec": {
   "name": "Python 3.8.5 32-bit",
   "display_name": "Python 3.8.5 32-bit",
   "metadata": {
    "interpreter": {
     "hash": "a8f955d9fa3b496668901490b610f917368f2a8ed661853f6de08268fd32c6ca"
    }
   }
  }
 },
 "nbformat": 4,
 "nbformat_minor": 2,
 "cells": [
  {
   "cell_type": "code",
   "execution_count": 31,
   "metadata": {},
   "outputs": [
    {
     "output_type": "stream",
     "name": "stdout",
     "text": [
      "13\n[2, 4, 8, 6, 13]\n"
     ]
    }
   ],
   "source": [
    "#Given a list of integers, write a function that returns the largest sum of non-adjacent numbers. Numbers can be 0 or negative.\n",
    "#For example, [2, 4, 6, 2, 5] should return 13, since we pick 2, 6, and 5. [5, 1, 1, 5] should return 10, since we pick 5 and 5.\n",
    "#Follow-up: Can you do this in O(N) time and constant space?\n",
    "\n",
    "a_list = [2, 4, 6, 2, 5]\n",
    "b_list = []\n",
    "def find_max_sum(a_list): \n",
    "    incl = 0\n",
    "    excl = 0\n",
    "    for i in a_list: \n",
    "        # Current max excluding i (No ternary in  \n",
    "        # Python) \n",
    "        new_excl = excl if excl > incl else incl \n",
    "        # Current max including i \n",
    "        incl = excl + i \n",
    "        excl = new_excl \n",
    "    # return max of incl and excl \n",
    "        b_list.append(incl)\n",
    "    return (excl if excl > incl else incl)\n",
    "print(find_max_sum(a_list))\n",
    "print(b_list)"
   ]
  },
  {
   "cell_type": "code",
   "execution_count": 35,
   "metadata": {},
   "outputs": [
    {
     "output_type": "stream",
     "name": "stdout",
     "text": [
      "13\n"
     ]
    }
   ],
   "source": [
    "c_list = [2, 4, 6, 2, 5]\n",
    "\n",
    "def find_max(c_list):\n",
    "    x = 0 \n",
    "    y = 0\n",
    "    for i in c_list:\n",
    "        z = x if x > y else y\n",
    "        y = x + i\n",
    "        x = z\n",
    "    return(x if x > y else y)\n",
    "print(find_max(c_list))"
   ]
  },
  {
   "cell_type": "code",
   "execution_count": null,
   "metadata": {},
   "outputs": [],
   "source": []
  }
 ]
}