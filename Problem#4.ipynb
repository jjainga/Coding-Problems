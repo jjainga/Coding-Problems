{
 "metadata": {
  "language_info": {
   "codemirror_mode": {
    "name": "ipython",
    "version": 3
   },
   "file_extension": ".py",
   "mimetype": "text/x-python",
   "name": "python",
   "nbconvert_exporter": "python",
   "pygments_lexer": "ipython3",
   "version": "3.8.5-final"
  },
  "orig_nbformat": 2,
  "kernelspec": {
   "name": "Python 3.8.5 32-bit",
   "display_name": "Python 3.8.5 32-bit",
   "metadata": {
    "interpreter": {
     "hash": "a8f955d9fa3b496668901490b610f917368f2a8ed661853f6de08268fd32c6ca"
    }
   }
  }
 },
 "nbformat": 4,
 "nbformat_minor": 2,
 "cells": [
  {
   "cell_type": "code",
   "execution_count": 17,
   "metadata": {
    "tags": []
   },
   "outputs": [
    {
     "output_type": "stream",
     "name": "stdout",
     "text": "3\n"
    }
   ],
   "source": [
    "#Given an array of integers, find the first missing positive integer in linear time and constant space. In other words, find the lowest positive integer that does not exist in the array. The array can contain duplicates and negative numbers as well.\n",
    "#For example, the input [3, 4, -1, 1] should give 2. The input [1, 2, 0] should give 3.\n",
    "#You can modify the input array in-place.\n",
    "a_list = [-4, 5, 6, 2, 9, -7, -7, 1, 1, 6, 4]\n",
    "i = 0\n",
    "a_list.sort \n",
    "for i in range(len(a_list)):\n",
    "    i += 1\n",
    "    try:\n",
    "         a_list.index(i)      \n",
    "    except:\n",
    "        print(i)\n",
    "        break"
   ]
  },
  {
   "cell_type": "code",
   "execution_count": null,
   "metadata": {},
   "outputs": [],
   "source": [
    "#thought process is, can go through the array once and check if the index of the value of i exist, then return that value. Once the index is not present then print the value of i and break out of the loop. "
   ]
  }
 ]
}