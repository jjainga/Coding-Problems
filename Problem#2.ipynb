{
 "metadata": {
  "language_info": {
   "codemirror_mode": {
    "name": "ipython",
    "version": 3
   },
   "file_extension": ".py",
   "mimetype": "text/x-python",
   "name": "python",
   "nbconvert_exporter": "python",
   "pygments_lexer": "ipython3",
   "version": "3.8.5-final"
  },
  "orig_nbformat": 2,
  "kernelspec": {
   "name": "Python 3.8.5 32-bit",
   "display_name": "Python 3.8.5 32-bit",
   "metadata": {
    "interpreter": {
     "hash": "a8f955d9fa3b496668901490b610f917368f2a8ed661853f6de08268fd32c6ca"
    }
   }
  }
 },
 "nbformat": 4,
 "nbformat_minor": 2,
 "cells": [
  {
   "cell_type": "code",
   "execution_count": 4,
   "metadata": {
    "tags": []
   },
   "outputs": [
    {
     "output_type": "stream",
     "name": "stdout",
     "text": "[120, 60, 40, 30, 24]\n"
    }
   ],
   "source": [
    "#Given an array of integers, return a new array such that each element at index i of the new array is the product of all the #numbers in the original array except the one at i.\n",
    "#For example, if our input was [1, 2, 3, 4, 5], the expected output would be [120, 60, 40, 30, 24]. If our input was [3, 2, 1], the expected output would be [2, 3, 6].\n",
    "#Follow-up: what if you can't use division?\n",
    "a_list = [1, 2, 3, 4, 5]\n",
    "b_list = []\n",
    "product = 1\n",
    "i = 0 \n",
    "j = 0\n",
    "one = 1\n",
    "holder = 1\n",
    "for i in range(len(a_list)):\n",
    "    holder = a_list[i]\n",
    "    a_list[i] = one\n",
    "    for j in range(len(a_list)):\n",
    "        product = product * a_list[j]\n",
    "        j += 1\n",
    "    b_list.append(product)\n",
    "    product = one\n",
    "    a_list[i] = holder\n",
    "    i += 1\n",
    "    j = 0\n",
    "print(b_list)"
   ]
  },
  {
   "cell_type": "code",
   "execution_count": null,
   "metadata": {},
   "outputs": [],
   "source": [
    "#First created an array containing numbers\n",
    "#next created a second array to append my new variables to \n",
    "#next created five variables, two to initalize i and j at index = 0 for two loops\n",
    "#one variable = 1 in order to switch each a_list[i] to in order to get the product of the array\n",
    "#one variable = whatever, this variable is just to hold the value of the a_list I am switching out to return it to the original value.\n",
    "#started the first loop, where I switch the value of the current index with the value of one\n",
    "#then go into the second loop in order to get the product of the array\n",
    "#come back to the first loop to set the value of the current index back to the original value and reset the value of J to be able to loop though the product once again"
   ]
  }
 ]
}