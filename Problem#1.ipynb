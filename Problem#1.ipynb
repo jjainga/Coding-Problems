{
 "metadata": {
  "language_info": {
   "codemirror_mode": {
    "name": "ipython",
    "version": 3
   },
   "file_extension": ".py",
   "mimetype": "text/x-python",
   "name": "python",
   "nbconvert_exporter": "python",
   "pygments_lexer": "ipython3",
   "version": "3.8.5-final"
  },
  "orig_nbformat": 2,
  "kernelspec": {
   "name": "Python 3.8.5 32-bit",
   "display_name": "Python 3.8.5 32-bit",
   "metadata": {
    "interpreter": {
     "hash": "a8f955d9fa3b496668901490b610f917368f2a8ed661853f6de08268fd32c6ca"
    }
   }
  }
 },
 "nbformat": 4,
 "nbformat_minor": 2,
 "cells": [
  {
   "cell_type": "code",
   "execution_count": 9,
   "metadata": {
    "tags": []
   },
   "outputs": [
    {
     "output_type": "stream",
     "name": "stdout",
     "text": "10 5\n \n5 10\n \n"
    }
   ],
   "source": [
    "#Given a list of numbers and a number k, return whether any two numbers from the list add up to k.\n",
    "#For example, given [10, 15, 3, 7] and k of 17, return true since 10 + 7 is 17.\n",
    "#Bonus: Can you do this in one pass?\n",
    "given_list = [10, 7, 5, 12]\n",
    "temp_list = given_list\n",
    "k = 15\n",
    "i = 0\n",
    "j = 0\n",
    "for i in range(len(given_list)):\n",
    "    for j in range(len(temp_list)):\n",
    "        if given_list[i] + temp_list[j] == k:\n",
    "            print(given_list[i], temp_list[j])\n",
    "            print(\" \")\n",
    "            j += 1\n",
    "    i +=1"
   ]
  },
  {
   "cell_type": "code",
   "execution_count": null,
   "metadata": {},
   "outputs": [],
   "source": [
    "given_list2 = [10, 7, 5, 12]\n",
    "given_list2.sort()\n",
    "temp2 = given_list2\n",
    "h = 15\n",
    "i = 0\n",
    "def solve(): \n",
    "    for i in range(len(given_list2)):\n",
    "        if given_list2[len(given_list2)-1] + temp2[i] == h:\n",
    "            print(given_list2[len(given_list2)-1], temp_list[i])\n",
    "            print(\" \")\n",
    "            i += 1\n",
    "        elif given_list2[len(given_list2)-1] + temp2[i] > h:\n",
    "            "
   ]
  }
 ]
}