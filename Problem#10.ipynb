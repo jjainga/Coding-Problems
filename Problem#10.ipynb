{
 "metadata": {
  "language_info": {
   "codemirror_mode": {
    "name": "ipython",
    "version": 3
   },
   "file_extension": ".py",
   "mimetype": "text/x-python",
   "name": "python",
   "nbconvert_exporter": "python",
   "pygments_lexer": "ipython3",
   "version": "3.8.5-final"
  },
  "orig_nbformat": 2,
  "kernelspec": {
   "name": "Python 3.8.5 32-bit",
   "display_name": "Python 3.8.5 32-bit",
   "metadata": {
    "interpreter": {
     "hash": "a8f955d9fa3b496668901490b610f917368f2a8ed661853f6de08268fd32c6ca"
    }
   }
  }
 },
 "nbformat": 4,
 "nbformat_minor": 2,
 "cells": [
  {
   "cell_type": "code",
   "execution_count": 23,
   "metadata": {},
   "outputs": [],
   "source": [
    "#Implement an autocomplete system. That is, given a query string s and a set of all possible query strings, return all strings in the set that have s as a prefix.\n",
    "#For example, given the query string de and the set of strings [dog, deer, deal], return [deer, deal].\n",
    "#Hint: Try preprocessing the dictionary into a more efficient data structure to speed up queries.\n",
    "a_list = [\"Joshua\", \"Jordan\", \"Jillain\", \"Jon\", \"Jackie\", \"Joe\"]"
   ]
  },
  {
   "cell_type": "code",
   "execution_count": 16,
   "metadata": {},
   "outputs": [
    {
     "output_type": "stream",
     "name": "stdout",
     "text": [
      "['Joshua', 'Jordan', 'Jon', 'Joe']\n"
     ]
    }
   ],
   "source": [
    "#Working function to get back correct values\n",
    "b_list = []\n",
    "test_char = \"Jo\"\n",
    "i = 0\n",
    "for i in range(len(a_list)):\n",
    "    holder = a_list[i]\n",
    "    new_holder = list(holder)\n",
    "    if new_holder[0] + new_holder[1] == test_char:\n",
    "        b_list.append(a_list[i])\n",
    "    i+=1\n",
    "print(b_list)"
   ]
  },
  {
   "cell_type": "code",
   "execution_count": null,
   "metadata": {},
   "outputs": [],
   "source": []
  }
 ]
}