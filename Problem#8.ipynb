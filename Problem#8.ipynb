{
 "metadata": {
  "language_info": {
   "codemirror_mode": {
    "name": "ipython",
    "version": 3
   },
   "file_extension": ".py",
   "mimetype": "text/x-python",
   "name": "python",
   "nbconvert_exporter": "python",
   "pygments_lexer": "ipython3",
   "version": "3.8.5-final"
  },
  "orig_nbformat": 2,
  "kernelspec": {
   "name": "Python 3.8.5 32-bit",
   "display_name": "Python 3.8.5 32-bit",
   "metadata": {
    "interpreter": {
     "hash": "a8f955d9fa3b496668901490b610f917368f2a8ed661853f6de08268fd32c6ca"
    }
   }
  }
 },
 "nbformat": 4,
 "nbformat_minor": 2,
 "cells": [
  {
   "cell_type": "code",
   "execution_count": 2,
   "metadata": {},
   "outputs": [],
   "source": [
    "#A unival tree (which stands for \"universal value\") is a tree where all nodes under it have the same value.\n",
    "#Given the root to a binary tree, count the number of unival subtrees.\n",
    "def is_unival(root):\n",
    "    if root == null:\n",
    "        return True\n",
    "    elif root.left != null and root.left.value != root.value:\n",
    "        return False\n",
    "    elif root.right != null and root.right.value != root.value:\n",
    "        return False\n",
    "    elif is_unival(root.left) and is_unival(root.right):\n",
    "        return True"
   ]
  },
  {
   "cell_type": "code",
   "execution_count": 1,
   "metadata": {},
   "outputs": [],
   "source": [
    "def count_univals(root):\n",
    "    if root == null:\n",
    "        return 0\n",
    "        total_count = count_unival(root.left) + count_univals(root.right)\n",
    "    if is_unival(root):\n",
    "        total_count += 1\n",
    "    return total_count"
   ]
  },
  {
   "cell_type": "code",
   "execution_count": null,
   "metadata": {},
   "outputs": [],
   "source": []
  }
 ]
}