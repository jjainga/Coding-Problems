{
 "metadata": {
  "language_info": {
   "codemirror_mode": {
    "name": "ipython",
    "version": 3
   },
   "file_extension": ".py",
   "mimetype": "text/x-python",
   "name": "python",
   "nbconvert_exporter": "python",
   "pygments_lexer": "ipython3",
   "version": "3.8.5-final"
  },
  "orig_nbformat": 4,
  "kernelspec": {
   "name": "python3",
   "display_name": "Python 3.8.5 32-bit"
  },
  "interpreter": {
   "hash": "a8f955d9fa3b496668901490b610f917368f2a8ed661853f6de08268fd32c6ca"
  }
 },
 "nbformat": 4,
 "nbformat_minor": 2,
 "cells": [
  {
   "cell_type": "code",
   "execution_count": 72,
   "metadata": {},
   "outputs": [],
   "source": [
    "initial_string = \".L.R....L\"\n",
    "def push(string):\n",
    "    i = 0\n",
    "    for element in string:\n",
    "        if element == \".\":\n",
    "            print(element)\n",
    "            i += 1\n",
    "        elif element == \"L\":\n",
    "            print(element)\n",
    "            new_string = string[:i-1] + \"L\" + string[i:]\n",
    "            string = new_string\n",
    "            print(new_string)\n",
    "            i += 1\n",
    "        elif element == \"R\":\n",
    "            print(element)\n",
    "            new_string = string[:i+1] + \"R\" + string[i+2:]\n",
    "            string = new_string\n",
    "            print(new_string)\n",
    "            i += 1\n",
    "    print(new_string)\n"
   ]
  },
  {
   "cell_type": "code",
   "execution_count": 73,
   "metadata": {},
   "outputs": [
    {
     "output_type": "stream",
     "name": "stdout",
     "text": [
      ".\nL\nLL.R....L\n.\nR\nLL.RR...L\n.\n.\n.\n.\nL\nLL.RR..LL\nLL.RR..LL\n"
     ]
    }
   ],
   "source": [
    "push(initial_string)"
   ]
  },
  {
   "cell_type": "code",
   "execution_count": 65,
   "metadata": {},
   "outputs": [
    {
     "output_type": "stream",
     "name": "stdout",
     "text": [
      ".L.R...L\n"
     ]
    }
   ],
   "source": [
    "initial_string = initial_string[:3] + \"R\" + initial_string[5:]\n",
    "print(initial_string)"
   ]
  },
  {
   "cell_type": "code",
   "execution_count": null,
   "metadata": {},
   "outputs": [],
   "source": []
  }
 ]
}