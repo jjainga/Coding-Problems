{
 "metadata": {
  "language_info": {
   "codemirror_mode": {
    "name": "ipython",
    "version": 3
   },
   "file_extension": ".py",
   "mimetype": "text/x-python",
   "name": "python",
   "nbconvert_exporter": "python",
   "pygments_lexer": "ipython3",
   "version": "3.8.5"
  },
  "orig_nbformat": 4,
  "kernelspec": {
   "name": "python3",
   "display_name": "Python 3.8.5 32-bit"
  },
  "interpreter": {
   "hash": "a8f955d9fa3b496668901490b610f917368f2a8ed661853f6de08268fd32c6ca"
  }
 },
 "nbformat": 4,
 "nbformat_minor": 2,
 "cells": [
  {
   "cell_type": "code",
   "execution_count": 17,
   "metadata": {},
   "outputs": [],
   "source": [
    "#Swap every two nodes in a linked list\n",
    "class Node:\n",
    "    def __init__(self, data, next=None): \n",
    "        self.data = data\n",
    "        self.next = next\n",
    "\n",
    "    def __repr__(self):\n",
    "        return f\"{self.data}, ({self.next.__repr__()})\"\n",
    "\n",
    "def swap_every_two(llist):\n",
    "    head = llist\n",
    "\n",
    "    curr = head \n",
    "    while curr is not None and curr.next is not None:\n",
    "        curr.data, curr.next.data = curr.next.data, curr.data\n",
    "        curr = curr.next.next\n",
    "    return head"
   ]
  },
  {
   "cell_type": "code",
   "execution_count": 18,
   "metadata": {},
   "outputs": [
    {
     "output_type": "stream",
     "name": "stdout",
     "text": [
      "2, (1, (4, (3, (5, (None)))))\n2, (1, (4, (3, (5, (None)))))\n"
     ]
    }
   ],
   "source": [
    "llist = Node(1,Node(2,Node(3,Node(4,Node(5)))))\n",
    "print(swap_every_two(llist))\n",
    "print(llist)"
   ]
  },
  {
   "cell_type": "code",
   "execution_count": null,
   "metadata": {},
   "outputs": [],
   "source": []
  }
 ]
}